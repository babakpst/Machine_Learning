{
 "cells": [
  {
   "cell_type": "code",
   "execution_count": null,
   "metadata": {},
   "outputs": [],
   "source": [
    "# Babak Poursartip\n",
    "# 04/16/2022\n",
    "# Vecotorization"
   ]
  },
  {
   "cell_type": "code",
   "execution_count": 2,
   "metadata": {},
   "outputs": [
    {
     "name": "stdout",
     "output_type": "stream",
     "text": [
      " array: [1 2 3 4]\n",
      " vectorized version of size 1000000 lasts 1.9097328186035156 ms. value 250182.39458784752\n",
      " non-vectorized version of size 1000000 lasts 301.61213874816895 ms. value 250182.39458783643\n",
      " matrix-vector multiplication: [1.67857509 1.36018193 1.75048405 2.266894   1.71837949 1.42112947\n",
      " 1.8203434  2.09013808 1.10501516 1.99194766] \n",
      " exponent: [5.35791596 3.89690219 5.75738886 9.64938323 5.575486   4.14179582\n",
      " 6.17397825 8.08603161 3.01927023 7.32979584] \n",
      " log: [0.51794527 0.30761846 0.55989235 0.81841061 0.54138169 0.35145195\n",
      " 0.59902517 0.73723013 0.09985905 0.68911289] \n",
      " abs: [1.67857509 1.36018193 1.75048405 2.266894   1.71837949 1.42112947\n",
      " 1.8203434  2.09013808 1.10501516 1.99194766] \n",
      " pow2: [2.81761432 1.85009488 3.0641944  5.1388084  2.95282807 2.01960896\n",
      " 3.3136501  4.3686772  1.2210585  3.96785549] \n",
      "[0. 0. 0. 0. 0. 0. 0. 0. 0. 0.]\n",
      "[[0.]\n",
      " [0.]\n",
      " [0.]\n",
      " [0.]\n",
      " [0.]\n",
      " [0.]\n",
      " [0.]\n",
      " [0.]\n",
      " [0.]\n",
      " [0.]]\n"
     ]
    }
   ],
   "source": [
    "import numpy as np\n",
    "import time\n",
    "\n",
    "def main():\n",
    "    \n",
    "    a = np.array([1,2,3,4],dtype=np.int32)\n",
    "    print(\" array: {}\".format(a))\n",
    "    \n",
    "    size = 1000000\n",
    "    v1 = np.random.rand(size)\n",
    "    v2 = np.random.rand(size)\n",
    "    tic = time.time()\n",
    "    tmp = np.dot(v1, v2)\n",
    "    toc = time.time()\n",
    "    \n",
    "    print(\" vectorized version of size {} lasts {} ms. value {}\".format(size, 1000*(toc-tic), tmp))\n",
    "    \n",
    "    tic = time.time()\n",
    "    tmp = 0\n",
    "    for i in range(size):\n",
    "        tmp += v1[i]*v2[i]\n",
    "    toc = time.time()\n",
    "    print(\" non-vectorized version of size {} lasts {} ms. value {}\".format(size, 1000*(toc-tic), tmp))\n",
    "    \n",
    "    # matrix-vector mulitplication\n",
    "    size = 10\n",
    "    A = np.random.rand(size,size)\n",
    "    v1 = np.random.rand(size)\n",
    "    u = np.dot(A, v1)\n",
    "    print(\" matrix-vector multiplication: {} \".format(u))    \n",
    "    \n",
    "    u_exp = np.exp(u)\n",
    "    print(\" exponent: {} \".format(u_exp))\n",
    "    u_log = np.log(u)\n",
    "    print(\" log: {} \".format(u_log))\n",
    "    u_abs = np.abs(u)\n",
    "    print(\" abs: {} \".format(u_abs))\n",
    "    u_pow2 = u**2\n",
    "    print(\" pow2: {} \".format(u_pow2))\n",
    "    \n",
    "    v2 = np.zeros(size)\n",
    "    v3 = np.zeros((size,1)) # This is a vector\n",
    "    print(v2)\n",
    "    print(v3)\n",
    "    \n",
    "    \n",
    "    \n",
    "\n",
    "\n",
    "if __name__==\"__main__\":\n",
    "    main()"
   ]
  },
  {
   "cell_type": "code",
   "execution_count": null,
   "metadata": {},
   "outputs": [],
   "source": []
  }
 ],
 "metadata": {
  "kernelspec": {
   "display_name": "Python 3",
   "language": "python",
   "name": "python3"
  },
  "language_info": {
   "codemirror_mode": {
    "name": "ipython",
    "version": 3
   },
   "file_extension": ".py",
   "mimetype": "text/x-python",
   "name": "python",
   "nbconvert_exporter": "python",
   "pygments_lexer": "ipython3",
   "version": "3.8.10"
  }
 },
 "nbformat": 4,
 "nbformat_minor": 4
}
