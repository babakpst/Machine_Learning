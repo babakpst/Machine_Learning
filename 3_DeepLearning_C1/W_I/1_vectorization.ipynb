{
 "cells": [
  {
   "cell_type": "code",
   "execution_count": null,
   "metadata": {},
   "outputs": [],
   "source": [
    "# Babak Poursartip\n",
    "# 04/16/2022\n",
    "# Vecotorization"
   ]
  },
  {
   "cell_type": "code",
   "execution_count": 18,
   "metadata": {},
   "outputs": [
    {
     "name": "stdout",
     "output_type": "stream",
     "text": [
      " array: [1 2 3 4]\n",
      " vectorized version of size 1000000 lasts 0.6854534149169922 ms. value 249899.17877388204\n",
      " non-vectorized version of size 1000000 lasts 390.8038139343262 ms. value 249899.17877388975\n",
      " matrix-vector multiplication: [2.52307973 2.44012187 1.72210976 2.67237764 2.39510608 2.08954142\n",
      " 2.17666449 2.25954888 2.77049396 1.56316734] \n",
      " exponent: [12.4669324  11.47443903  5.5963229  14.47434307 10.96936167  8.08120842\n",
      "  8.81684846  9.57876707 15.96651884  4.77391795] \n",
      " log: [0.92548027 0.89204798 0.54355014 0.98296858 0.87342752 0.73694462\n",
      " 0.77779365 0.81516518 1.01902563 0.44671411] \n",
      " abs: [2.52307973 2.44012187 1.72210976 2.67237764 2.39510608 2.08954142\n",
      " 2.17666449 2.25954888 2.77049396 1.56316734] \n",
      " pow2: [6.36593133 5.95419473 2.96566201 7.14160225 5.73653315 4.36618334\n",
      " 4.7378683  5.10556116 7.67563677 2.44349213] \n",
      "[0. 0. 0. 0. 0. 0. 0. 0. 0. 0.]\n",
      "[[0.]\n",
      " [0.]\n",
      " [0.]\n",
      " [0.]\n",
      " [0.]\n",
      " [0.]\n",
      " [0.]\n",
      " [0.]\n",
      " [0.]\n",
      " [0.]]\n"
     ]
    }
   ],
   "source": [
    "import numpy as np\n",
    "import time\n",
    "\n",
    "def main():\n",
    "    \n",
    "    a = np.array([1,2,3,4],dtype=np.int)\n",
    "    print(\" array: {}\".format(a))\n",
    "    \n",
    "    size = 1000000\n",
    "    v1 = np.random.rand(size)\n",
    "    v2 = np.random.rand(size)\n",
    "    tic = time.time()\n",
    "    tmp = np.dot(v1, v2)\n",
    "    toc = time.time()\n",
    "    \n",
    "    print(\" vectorized version of size {} lasts {} ms. value {}\".format(size, 1000*(toc-tic), tmp))\n",
    "    \n",
    "    tic = time.time()\n",
    "    tmp = 0\n",
    "    for i in range(size):\n",
    "        tmp += v1[i]*v2[i]\n",
    "    toc = time.time()\n",
    "    print(\" non-vectorized version of size {} lasts {} ms. value {}\".format(size, 1000*(toc-tic), tmp))\n",
    "    \n",
    "    # matrix-vector mulitplication\n",
    "    size = 10\n",
    "    A = np.random.rand(size,size)\n",
    "    v1 = np.random.rand(size)\n",
    "    u = np.dot(A, v1)\n",
    "    print(\" matrix-vector multiplication: {} \".format(u))    \n",
    "    \n",
    "    u_exp = np.exp(u)\n",
    "    print(\" exponent: {} \".format(u_exp))\n",
    "    u_log = np.log(u)\n",
    "    print(\" log: {} \".format(u_log))\n",
    "    u_abs = np.abs(u)\n",
    "    print(\" abs: {} \".format(u_abs))\n",
    "    u_pow2 = u**2\n",
    "    print(\" pow2: {} \".format(u_pow2))\n",
    "    \n",
    "    v2 = np.zeros(size)\n",
    "    v3 = np.zeros((size,1)) # This is a vector\n",
    "    print(v2)\n",
    "    print(v3)\n",
    "    \n",
    "    \n",
    "    \n",
    "\n",
    "\n",
    "if __name__==\"__main__\":\n",
    "    main()"
   ]
  },
  {
   "cell_type": "code",
   "execution_count": null,
   "metadata": {},
   "outputs": [],
   "source": []
  }
 ],
 "metadata": {
  "kernelspec": {
   "display_name": "Python 3",
   "language": "python",
   "name": "python3"
  },
  "language_info": {
   "codemirror_mode": {
    "name": "ipython",
    "version": 3
   },
   "file_extension": ".py",
   "mimetype": "text/x-python",
   "name": "python",
   "nbconvert_exporter": "python",
   "pygments_lexer": "ipython3",
   "version": "3.8.10"
  }
 },
 "nbformat": 4,
 "nbformat_minor": 4
}
