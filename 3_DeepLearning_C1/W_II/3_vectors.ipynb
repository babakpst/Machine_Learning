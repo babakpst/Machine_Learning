{
 "cells": [
  {
   "cell_type": "code",
   "execution_count": 25,
   "metadata": {},
   "outputs": [],
   "source": [
    "# Babak Poursartip\n",
    "# April 17, 2022\n",
    "# Vectors\n",
    "# Always define the exact size of the vectors to prevent any misinterpretations.\n"
   ]
  },
  {
   "cell_type": "code",
   "execution_count": 26,
   "metadata": {},
   "outputs": [
    {
     "name": "stdout",
     "output_type": "stream",
     "text": [
      "[ 1.10485869 -1.64029534 -0.46879509 -0.04053446  0.97187866]\n"
     ]
    }
   ],
   "source": [
    "\n",
    "import numpy as np\n",
    "\n",
    "a = np.random.randn(5)\n",
    "print(a)"
   ]
  },
  {
   "cell_type": "code",
   "execution_count": 27,
   "metadata": {},
   "outputs": [
    {
     "name": "stdout",
     "output_type": "stream",
     "text": [
      "(5,)\n"
     ]
    }
   ],
   "source": [
    "print(a.shape)  # This is a rank 1 array."
   ]
  },
  {
   "cell_type": "code",
   "execution_count": 28,
   "metadata": {},
   "outputs": [
    {
     "name": "stdout",
     "output_type": "stream",
     "text": [
      "[ 1.10485869 -1.64029534 -0.46879509 -0.04053446  0.97187866]\n"
     ]
    }
   ],
   "source": [
    "print(a.T)"
   ]
  },
  {
   "cell_type": "code",
   "execution_count": 29,
   "metadata": {},
   "outputs": [
    {
     "name": "stdout",
     "output_type": "stream",
     "text": [
      "(5,)\n"
     ]
    }
   ],
   "source": [
    "print(a.T.shape)"
   ]
  },
  {
   "cell_type": "code",
   "execution_count": 30,
   "metadata": {},
   "outputs": [
    {
     "name": "stdout",
     "output_type": "stream",
     "text": [
      "5.077241535725279\n"
     ]
    }
   ],
   "source": [
    "print(np.dot(a, a.T))"
   ]
  },
  {
   "cell_type": "code",
   "execution_count": 32,
   "metadata": {},
   "outputs": [
    {
     "name": "stdout",
     "output_type": "stream",
     "text": [
      "[[-1.38553719]\n",
      " [ 0.57275793]\n",
      " [-1.68090471]\n",
      " [-0.02422916]\n",
      " [ 0.83415554]]\n"
     ]
    }
   ],
   "source": [
    "b = np.random.randn(5,1)\n",
    "print(b)"
   ]
  },
  {
   "cell_type": "code",
   "execution_count": 33,
   "metadata": {},
   "outputs": [
    {
     "name": "stdout",
     "output_type": "stream",
     "text": [
      "[[-1.38553719  0.57275793 -1.68090471 -0.02422916  0.83415554]]\n"
     ]
    }
   ],
   "source": [
    "print(b.T)"
   ]
  },
  {
   "cell_type": "code",
   "execution_count": 34,
   "metadata": {},
   "outputs": [
    {
     "name": "stdout",
     "output_type": "stream",
     "text": [
      "[[ 1.91971330e+00 -7.93577412e-01  2.32895599e+00  3.35703963e-02\n",
      "  -1.15575352e+00]\n",
      " [-7.93577412e-01  3.28051647e-01 -9.62751506e-01 -1.38774411e-02\n",
      "   4.77769202e-01]\n",
      " [ 2.32895599e+00 -9.62751506e-01  2.82544066e+00  4.07269021e-02\n",
      "  -1.40213598e+00]\n",
      " [ 3.35703963e-02 -1.38774411e-02  4.07269021e-02  5.87051988e-04\n",
      "  -2.02108845e-02]\n",
      " [-1.15575352e+00  4.77769202e-01 -1.40213598e+00 -2.02108845e-02\n",
      "   6.95815467e-01]]\n"
     ]
    }
   ],
   "source": [
    "print(np.dot(b,b.T))"
   ]
  },
  {
   "cell_type": "code",
   "execution_count": 36,
   "metadata": {},
   "outputs": [],
   "source": [
    "assert(b.shape==(5,1))"
   ]
  },
  {
   "cell_type": "code",
   "execution_count": null,
   "metadata": {},
   "outputs": [],
   "source": []
  }
 ],
 "metadata": {
  "kernelspec": {
   "display_name": "Python 3",
   "language": "python",
   "name": "python3"
  },
  "language_info": {
   "codemirror_mode": {
    "name": "ipython",
    "version": 3
   },
   "file_extension": ".py",
   "mimetype": "text/x-python",
   "name": "python",
   "nbconvert_exporter": "python",
   "pygments_lexer": "ipython3",
   "version": "3.8.10"
  }
 },
 "nbformat": 4,
 "nbformat_minor": 4
}
