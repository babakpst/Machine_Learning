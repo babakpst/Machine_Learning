{
 "cells": [
  {
   "cell_type": "code",
   "execution_count": null,
   "metadata": {},
   "outputs": [],
   "source": [
    "# Babak Poursartip\n",
    "# 04/16/2022\n",
    "# Vecotorization"
   ]
  },
  {
   "cell_type": "code",
   "execution_count": 1,
   "metadata": {},
   "outputs": [
    {
     "name": "stdout",
     "output_type": "stream",
     "text": [
      " array: [1 2 3 4]\n",
      " vectorized version of size 1000000 lasts 0.4601478576660156 ms. value 249993.20327578328\n",
      " non-vectorized version of size 1000000 lasts 386.0774040222168 ms. value 249993.20327577862\n",
      " matrix-vector multiplication: [1.63665309 2.42024234 1.5123057  2.45151019 2.99214336 3.09467263\n",
      " 1.92655288 2.14450395 1.94885937 1.96815158] \n",
      " exponent: [ 5.13794447 11.248585    4.53718013 11.60586059 19.9283504  22.08000902\n",
      "  6.86580218  8.53780505  7.02067504  7.15743431] \n",
      " log: [0.49265336 0.88386768 0.41363544 0.89670424 1.09598997 1.12968213\n",
      " 0.65573234 0.76290827 0.66724426 0.67709482] \n",
      " abs: [1.63665309 2.42024234 1.5123057  2.45151019 2.99214336 3.09467263\n",
      " 1.92655288 2.14450395 1.94885937 1.96815158] \n",
      " pow2: [2.67863334 5.857573   2.28706854 6.00990223 8.95292189 9.57699869\n",
      " 3.71160601 4.59889721 3.79805286 3.87362064] \n",
      "[0. 0. 0. 0. 0. 0. 0. 0. 0. 0.]\n",
      "[[0.]\n",
      " [0.]\n",
      " [0.]\n",
      " [0.]\n",
      " [0.]\n",
      " [0.]\n",
      " [0.]\n",
      " [0.]\n",
      " [0.]\n",
      " [0.]]\n"
     ]
    }
   ],
   "source": [
    "import numpy as np\n",
    "import time\n",
    "\n",
    "def main():\n",
    "    \n",
    "    a = np.array([1,2,3,4],dtype=np.int)\n",
    "    print(\" array: {}\".format(a))\n",
    "    \n",
    "    size = 1000000\n",
    "    v1 = np.random.rand(size)\n",
    "    v2 = np.random.rand(size)\n",
    "    tic = time.time()\n",
    "    tmp = np.dot(v1, v2)\n",
    "    toc = time.time()\n",
    "    \n",
    "    print(\" vectorized version of size {} lasts {} ms. value {}\".format(size, 1000*(toc-tic), tmp))\n",
    "    \n",
    "    tic = time.time()\n",
    "    tmp = 0\n",
    "    for i in range(size):\n",
    "        tmp += v1[i]*v2[i]\n",
    "    toc = time.time()\n",
    "    print(\" non-vectorized version of size {} lasts {} ms. value {}\".format(size, 1000*(toc-tic), tmp))\n",
    "    \n",
    "    # matrix-vector mulitplication\n",
    "    size = 10\n",
    "    A = np.random.rand(size,size)\n",
    "    v1 = np.random.rand(size)\n",
    "    u = np.dot(A, v1)\n",
    "    print(\" matrix-vector multiplication: {} \".format(u))    \n",
    "    \n",
    "    u_exp = np.exp(u)\n",
    "    print(\" exponent: {} \".format(u_exp))\n",
    "    u_log = np.log(u)\n",
    "    print(\" log: {} \".format(u_log))\n",
    "    u_abs = np.abs(u)\n",
    "    print(\" abs: {} \".format(u_abs))\n",
    "    u_pow2 = u**2\n",
    "    print(\" pow2: {} \".format(u_pow2))\n",
    "    \n",
    "    v2 = np.zeros(size)\n",
    "    v3 = np.zeros((size,1)) # This is a vector\n",
    "    print(v2)\n",
    "    print(v3)\n",
    "    \n",
    "\n",
    "if __name__==\"__main__\":\n",
    "    main()"
   ]
  },
  {
   "cell_type": "code",
   "execution_count": null,
   "metadata": {},
   "outputs": [],
   "source": []
  }
 ],
 "metadata": {
  "kernelspec": {
   "display_name": "Python 3",
   "language": "python",
   "name": "python3"
  },
  "language_info": {
   "codemirror_mode": {
    "name": "ipython",
    "version": 3
   },
   "file_extension": ".py",
   "mimetype": "text/x-python",
   "name": "python",
   "nbconvert_exporter": "python",
   "pygments_lexer": "ipython3",
   "version": "3.8.10"
  }
 },
 "nbformat": 4,
 "nbformat_minor": 4
}
