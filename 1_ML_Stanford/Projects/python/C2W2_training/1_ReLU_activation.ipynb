{
 "cells": [
  {
   "cell_type": "markdown",
   "metadata": {},
   "source": [
    "# This code is not running in jupyter, directly run the python version.\n",
    "\n",
    "# ReLu activation function\n",
    "\n",
    "Rectified Linear Unit"
   ]
  },
  {
   "cell_type": "code",
   "execution_count": 28,
   "metadata": {},
   "outputs": [],
   "source": [
    "import numpy as np\n",
    "import matplotlib.pyplot as plt\n",
    "from matplotlib.gridspec import GridSpec\n",
    "from matplotlib.widgets import Slider\n",
    "plt.style.use('../deeplearning.mplstyle')\n",
    "import tensorflow as tf\n",
    "from tensorflow.keras.models import Sequential\n",
    "from tensorflow.keras.layers import Dense, LeakyReLU\n",
    "from tensorflow.keras.activations import linear, relu, sigmoid\n",
    "%matplotlib widget\n",
    "from matplotlib.widgets import Slider\n",
    "\n",
    "import warnings\n",
    "warnings.simplefilter(action='ignore', category=UserWarning)\n"
   ]
  },
  {
   "cell_type": "code",
   "execution_count": 29,
   "metadata": {},
   "outputs": [],
   "source": [
    "# helper functions\n",
    "\n",
    "# from tensorflow.keras.activations import sigmoid\n",
    "# import matplotlib.colors as colors\n",
    "# from matplotlib import cm\n",
    "\n",
    "dlc = dict(dlblue = '#0096ff', dlorange = '#FF9300', dldarkred='#C00000', dlmagenta='#FF40FF', dlpurple='#7030A0', dldarkblue =  '#0D5BDC')\n",
    "\n",
    "def widgvis(fig):\n",
    "    fig.canvas.toolbar_visible = False\n",
    "    fig.canvas.header_visible = False\n",
    "    fig.canvas.footer_visible = False\n",
    "\n",
    "\n",
    "\n",
    "def plt_act_trio():\n",
    "    X = np.linspace(-5,5,100)\n",
    "    fig,ax = plt.subplots(1,3, figsize=(6,2))\n",
    "    widgvis(fig)\n",
    "    ax[0].plot(X,tf.keras.activations.linear(X))\n",
    "    ax[0].axvline(0, lw=0.3, c=\"black\")\n",
    "    ax[0].axhline(0, lw=0.3, c=\"black\")\n",
    "    ax[0].set_title(\"Linear\")\n",
    "    ax[1].plot(X,tf.keras.activations.sigmoid(X))\n",
    "    ax[1].axvline(0, lw=0.3, c=\"black\")\n",
    "    ax[1].axhline(0, lw=0.3, c=\"black\")\n",
    "    ax[1].set_title(\"Sigmoid\")\n",
    "    ax[2].plot(X,tf.keras.activations.relu(X))\n",
    "    ax[2].axhline(0, lw=0.3, c=\"black\")\n",
    "    ax[2].axvline(0, lw=0.3, c=\"black\")\n",
    "    ax[2].set_title(\"ReLu\")\n",
    "    fig.suptitle(\"Common Activation Functions\", fontsize=14)\n",
    "    fig.tight_layout(pad=0.2)\n",
    "    plt.show()\n",
    "\n",
    "\n",
    "# ==============\n",
    "\n",
    "def widgvis(fig):\n",
    "    fig.canvas.toolbar_visible = False\n",
    "    fig.canvas.header_visible = False\n",
    "    fig.canvas.footer_visible = False\n",
    "    \n",
    "    \n",
    "def plt_base(ax):\n",
    "    X = np.linspace(0, 3, 3*100)\n",
    "    y = np.r_[ -2*X[0:100]+2, 1*X[100:200]-3+2, 3*X[200:300]-7+2 ]\n",
    "    w00 = -2\n",
    "    b00 =  2\n",
    "    w01 =  0  #  1\n",
    "    b01 =  0  # -1\n",
    "    w02 =  0  #  2\n",
    "    b02 =  0  # -4\n",
    "    ax[0].plot(X, y, color = dlc[\"dlblue\"], label=\"target\")\n",
    "    arts = []\n",
    "    arts.extend( plt_yhat(ax[0], X, w00, b00, w01, b01, w02, b02) )\n",
    "    _ = plt_unit(ax[1], X, w00, b00)   #Fixed\n",
    "    arts.extend( plt_unit(ax[2], X, w01, b01) )\n",
    "    arts.extend( plt_unit(ax[3], X, w02, b02) )\n",
    "    return(X, arts)\n",
    "\n",
    "def plt_yhat(ax, X, w00, b00, w01, b01, w02, b02):\n",
    "    yhat = np.maximum(0, np.dot(w00, X) + b00) + \\\n",
    "            np.maximum(0, np.dot(w01, X) + b01) + \\\n",
    "            np.maximum(0, np.dot(w02, X) + b02)\n",
    "    lp = ax.plot(X, yhat, lw=2, color = dlc[\"dlorange\"], label=\"a2\")\n",
    "    return(lp)\n",
    "\n",
    "def plt_unit(ax, X, w, b):\n",
    "    z = np.dot(w,X) + b\n",
    "    yhat = np.maximum(0,z)\n",
    "    lpa = ax.plot(X, z,    dlc[\"dlblue\"], label=\"z\")\n",
    "    lpb = ax.plot(X, yhat, dlc[\"dlmagenta\"], lw=1, label=\"a\")\n",
    "    return([lpa[0], lpb[0]])\n",
    "\n",
    "# if output is need for debug, put this in a cell and call ahead of time. Output will be below that cell.\n",
    "#from ipywidgets import Output   #this line stays here\n",
    "#output = Output()               #this line stays here\n",
    "#display(output)                 #this line goes in notebook\n",
    "\n",
    "def plt_relu_ex():\n",
    "    artists = []\n",
    "\n",
    "    fig = plt.figure()\n",
    "    fig.suptitle(\"Explore Non-Linear Activation\")\n",
    "\n",
    "    gs = GridSpec(3, 2, width_ratios=[2, 1], height_ratios=[1, 1, 1])\n",
    "    ax1 = fig.add_subplot(gs[0:2,0])\n",
    "    ax2 = fig.add_subplot(gs[0,1])\n",
    "    ax3 = fig.add_subplot(gs[1,1])\n",
    "    ax4 = fig.add_subplot(gs[2,1])\n",
    "    ax = [ax1,ax2,ax3,ax4]\n",
    "    \n",
    "    widgvis(fig)\n",
    "    #plt.subplots_adjust(bottom=0.35)\n",
    "\n",
    "    axb2 = fig.add_axes([0.15, 0.10, 0.30, 0.03]) # [left, bottom, width, height]\n",
    "    axw2 = fig.add_axes([0.15, 0.15, 0.30, 0.03])\n",
    "    axb1 = fig.add_axes([0.15, 0.20, 0.30, 0.03])\n",
    "    axw1 = fig.add_axes([0.15, 0.25, 0.30, 0.03])\n",
    "\n",
    "    sw1 = Slider(axw1, 'w1', -4.0, 4.0, valinit=0, valstep=0.1)\n",
    "    sb1 = Slider(axb1, 'b1', -4.0, 4.0, valinit=0, valstep=0.1)\n",
    "    sw2 = Slider(axw2, 'w2', -4.0, 4.0, valinit=0, valstep=0.1)\n",
    "    sb2 = Slider(axb2, 'b2', -4.0, 4.0, valinit=0, valstep=0.1)\n",
    "    \n",
    "    X,lp = plt_base(ax)\n",
    "    artists.extend( lp )\n",
    "    \n",
    "    #@output.capture()\n",
    "    def update(val):\n",
    "        #print(\"-----------\")\n",
    "        #print(f\"len artists {len(artists)}\", artists)\n",
    "        for i in range(len(artists)):\n",
    "            artist = artists[i]\n",
    "            #print(\"artist:\", artist)\n",
    "            artist.remove()\n",
    "        artists.clear()\n",
    "        #print(artists)\n",
    "        w00 = -2\n",
    "        b00 =  2\n",
    "        w01 =  sw1.val  #  1\n",
    "        b01 =  sb1.val  # -1\n",
    "        w02 =  sw2.val  #  2\n",
    "        b02 =  sb2.val  # -4\n",
    "        artists.extend(plt_yhat(ax[0], X, w00, b00, w01, b01, w02, b02))\n",
    "        artists.extend(plt_unit(ax[2], X, w01, b01) )\n",
    "        artists.extend(plt_unit(ax[3], X, w02, b02) )\n",
    "        #fig.canvas.draw_idle()\n",
    "        \n",
    "    sw1.on_changed(update)\n",
    "    sb1.on_changed(update)\n",
    "    sw2.on_changed(update)\n",
    "    sb2.on_changed(update)\n",
    "\n",
    "    ax[0].set_title(\" Match Target \")\n",
    "    ax[0].legend()\n",
    "    ax[0].set_xlabel(\"x\")\n",
    "    ax[1].set_title(\"Unit 0 (fixed) \")\n",
    "    ax[1].legend()\n",
    "    ax[2].set_title(\"Unit 1\")\n",
    "    ax[2].legend() \n",
    "    ax[3].set_title(\"Unit 2\")\n",
    "    ax[3].legend()\n",
    "    plt.tight_layout()\n",
    "\n",
    "    plt.show()\n",
    "    return([sw1,sw2,sb1,sb2,artists]) # returned to keep a live reference to sliders"
   ]
  },
  {
   "cell_type": "code",
   "execution_count": 30,
   "metadata": {},
   "outputs": [
    {
     "name": "stdout",
     "output_type": "stream",
     "text": [
      "1\n",
      "2\n",
      "3\n",
      "4\n"
     ]
    },
    {
     "ename": "AttributeError",
     "evalue": "'Canvas' object has no attribute '_dpi_ratio'",
     "output_type": "error",
     "traceback": [
      "\u001b[0;31m---------------------------------------------------------------------------\u001b[0m",
      "\u001b[0;31mAttributeError\u001b[0m                            Traceback (most recent call last)",
      "\u001b[0;32m/usr/lib/python3/dist-packages/IPython/core/formatters.py\u001b[0m in \u001b[0;36m__call__\u001b[0;34m(self, obj, include, exclude)\u001b[0m\n\u001b[1;32m    968\u001b[0m \u001b[0;34m\u001b[0m\u001b[0m\n\u001b[1;32m    969\u001b[0m             \u001b[0;32mif\u001b[0m \u001b[0mmethod\u001b[0m \u001b[0;32mis\u001b[0m \u001b[0;32mnot\u001b[0m \u001b[0;32mNone\u001b[0m\u001b[0;34m:\u001b[0m\u001b[0;34m\u001b[0m\u001b[0;34m\u001b[0m\u001b[0m\n\u001b[0;32m--> 970\u001b[0;31m                 \u001b[0;32mreturn\u001b[0m \u001b[0mmethod\u001b[0m\u001b[0;34m(\u001b[0m\u001b[0minclude\u001b[0m\u001b[0;34m=\u001b[0m\u001b[0minclude\u001b[0m\u001b[0;34m,\u001b[0m \u001b[0mexclude\u001b[0m\u001b[0;34m=\u001b[0m\u001b[0mexclude\u001b[0m\u001b[0;34m)\u001b[0m\u001b[0;34m\u001b[0m\u001b[0;34m\u001b[0m\u001b[0m\n\u001b[0m\u001b[1;32m    971\u001b[0m             \u001b[0;32mreturn\u001b[0m \u001b[0;32mNone\u001b[0m\u001b[0;34m\u001b[0m\u001b[0;34m\u001b[0m\u001b[0m\n\u001b[1;32m    972\u001b[0m         \u001b[0;32melse\u001b[0m\u001b[0;34m:\u001b[0m\u001b[0;34m\u001b[0m\u001b[0;34m\u001b[0m\u001b[0m\n",
      "\u001b[0;32m~/.local/lib/python3.8/site-packages/ipympl/backend_nbagg.py\u001b[0m in \u001b[0;36m_repr_mimebundle_\u001b[0;34m(self, **kwargs)\u001b[0m\n\u001b[1;32m    346\u001b[0m             \u001b[0mheight\u001b[0m \u001b[0;34m=\u001b[0m \u001b[0mpheight\u001b[0m \u001b[0;34m/\u001b[0m \u001b[0mself\u001b[0m\u001b[0;34m.\u001b[0m\u001b[0mdevice_pixel_ratio\u001b[0m\u001b[0;34m\u001b[0m\u001b[0;34m\u001b[0m\u001b[0m\n\u001b[1;32m    347\u001b[0m         \u001b[0;32melse\u001b[0m\u001b[0;34m:\u001b[0m\u001b[0;34m\u001b[0m\u001b[0;34m\u001b[0m\u001b[0m\n\u001b[0;32m--> 348\u001b[0;31m             \u001b[0mwidth\u001b[0m \u001b[0;34m=\u001b[0m \u001b[0mpwidth\u001b[0m \u001b[0;34m/\u001b[0m \u001b[0mself\u001b[0m\u001b[0;34m.\u001b[0m\u001b[0m_dpi_ratio\u001b[0m\u001b[0;34m\u001b[0m\u001b[0;34m\u001b[0m\u001b[0m\n\u001b[0m\u001b[1;32m    349\u001b[0m             \u001b[0mheight\u001b[0m \u001b[0;34m=\u001b[0m \u001b[0mpheight\u001b[0m \u001b[0;34m/\u001b[0m \u001b[0mself\u001b[0m\u001b[0;34m.\u001b[0m\u001b[0m_dpi_ratio\u001b[0m\u001b[0;34m\u001b[0m\u001b[0;34m\u001b[0m\u001b[0m\n\u001b[1;32m    350\u001b[0m         html = \"\"\"\n",
      "\u001b[0;31mAttributeError\u001b[0m: 'Canvas' object has no attribute '_dpi_ratio'"
     ]
    },
    {
     "data": {
      "text/plain": [
       "Canvas(footer_visible=False, header_visible=False, toolbar=Toolbar(toolitems=[('Home', 'Reset original view', 'home', 'home'), ('Back', 'Back to previous view', 'arrow-left', 'back'), ('Forward', 'Forward to next view', 'arrow-right', 'forward'), ('Pan', 'Left button pans, Right button zooms\\nx/y fixes axis, CTRL fixes aspect', 'arrows', 'pan'), ('Zoom', 'Zoom to rectangle\\nx/y fixes axis, CTRL fixes aspect', 'square-o', 'zoom'), ('Download', 'Download plot', 'floppy-o', 'save_figure')]), toolbar_visible=False)"
      ]
     },
     "metadata": {},
     "output_type": "display_data"
    },
    {
     "name": "stdout",
     "output_type": "stream",
     "text": [
      "out\n"
     ]
    }
   ],
   "source": [
    "# this one is just plotting the three activation units (linear, sigmoid, and relu). Refer to my notes.\n",
    "\n",
    "plt_act_trio()\n"
   ]
  },
  {
   "cell_type": "markdown",
   "metadata": {},
   "source": []
  },
  {
   "cell_type": "code",
   "execution_count": 31,
   "metadata": {},
   "outputs": [
    {
     "ename": "AttributeError",
     "evalue": "'Canvas' object has no attribute '_dpi_ratio'",
     "output_type": "error",
     "traceback": [
      "\u001b[0;31m---------------------------------------------------------------------------\u001b[0m",
      "\u001b[0;31mAttributeError\u001b[0m                            Traceback (most recent call last)",
      "\u001b[0;32m/usr/lib/python3/dist-packages/IPython/core/formatters.py\u001b[0m in \u001b[0;36m__call__\u001b[0;34m(self, obj, include, exclude)\u001b[0m\n\u001b[1;32m    968\u001b[0m \u001b[0;34m\u001b[0m\u001b[0m\n\u001b[1;32m    969\u001b[0m             \u001b[0;32mif\u001b[0m \u001b[0mmethod\u001b[0m \u001b[0;32mis\u001b[0m \u001b[0;32mnot\u001b[0m \u001b[0;32mNone\u001b[0m\u001b[0;34m:\u001b[0m\u001b[0;34m\u001b[0m\u001b[0;34m\u001b[0m\u001b[0m\n\u001b[0;32m--> 970\u001b[0;31m                 \u001b[0;32mreturn\u001b[0m \u001b[0mmethod\u001b[0m\u001b[0;34m(\u001b[0m\u001b[0minclude\u001b[0m\u001b[0;34m=\u001b[0m\u001b[0minclude\u001b[0m\u001b[0;34m,\u001b[0m \u001b[0mexclude\u001b[0m\u001b[0;34m=\u001b[0m\u001b[0mexclude\u001b[0m\u001b[0;34m)\u001b[0m\u001b[0;34m\u001b[0m\u001b[0;34m\u001b[0m\u001b[0m\n\u001b[0m\u001b[1;32m    971\u001b[0m             \u001b[0;32mreturn\u001b[0m \u001b[0;32mNone\u001b[0m\u001b[0;34m\u001b[0m\u001b[0;34m\u001b[0m\u001b[0m\n\u001b[1;32m    972\u001b[0m         \u001b[0;32melse\u001b[0m\u001b[0;34m:\u001b[0m\u001b[0;34m\u001b[0m\u001b[0;34m\u001b[0m\u001b[0m\n",
      "\u001b[0;32m~/.local/lib/python3.8/site-packages/ipympl/backend_nbagg.py\u001b[0m in \u001b[0;36m_repr_mimebundle_\u001b[0;34m(self, **kwargs)\u001b[0m\n\u001b[1;32m    346\u001b[0m             \u001b[0mheight\u001b[0m \u001b[0;34m=\u001b[0m \u001b[0mpheight\u001b[0m \u001b[0;34m/\u001b[0m \u001b[0mself\u001b[0m\u001b[0;34m.\u001b[0m\u001b[0mdevice_pixel_ratio\u001b[0m\u001b[0;34m\u001b[0m\u001b[0;34m\u001b[0m\u001b[0m\n\u001b[1;32m    347\u001b[0m         \u001b[0;32melse\u001b[0m\u001b[0;34m:\u001b[0m\u001b[0;34m\u001b[0m\u001b[0;34m\u001b[0m\u001b[0m\n\u001b[0;32m--> 348\u001b[0;31m             \u001b[0mwidth\u001b[0m \u001b[0;34m=\u001b[0m \u001b[0mpwidth\u001b[0m \u001b[0;34m/\u001b[0m \u001b[0mself\u001b[0m\u001b[0;34m.\u001b[0m\u001b[0m_dpi_ratio\u001b[0m\u001b[0;34m\u001b[0m\u001b[0;34m\u001b[0m\u001b[0m\n\u001b[0m\u001b[1;32m    349\u001b[0m             \u001b[0mheight\u001b[0m \u001b[0;34m=\u001b[0m \u001b[0mpheight\u001b[0m \u001b[0;34m/\u001b[0m \u001b[0mself\u001b[0m\u001b[0;34m.\u001b[0m\u001b[0m_dpi_ratio\u001b[0m\u001b[0;34m\u001b[0m\u001b[0;34m\u001b[0m\u001b[0m\n\u001b[1;32m    350\u001b[0m         html = \"\"\"\n",
      "\u001b[0;31mAttributeError\u001b[0m: 'Canvas' object has no attribute '_dpi_ratio'"
     ]
    },
    {
     "data": {
      "text/plain": [
       "Canvas(footer_visible=False, header_visible=False, toolbar=Toolbar(toolitems=[('Home', 'Reset original view', 'home', 'home'), ('Back', 'Back to previous view', 'arrow-left', 'back'), ('Forward', 'Forward to next view', 'arrow-right', 'forward'), ('Pan', 'Left button pans, Right button zooms\\nx/y fixes axis, CTRL fixes aspect', 'arrows', 'pan'), ('Zoom', 'Zoom to rectangle\\nx/y fixes axis, CTRL fixes aspect', 'square-o', 'zoom'), ('Download', 'Download plot', 'floppy-o', 'save_figure')]), toolbar_visible=False)"
      ]
     },
     "metadata": {},
     "output_type": "display_data"
    }
   ],
   "source": [
    "_ = plt_relu_ex()"
   ]
  }
 ],
 "metadata": {
  "kernelspec": {
   "display_name": "Python 3",
   "language": "python",
   "name": "python3"
  },
  "language_info": {
   "codemirror_mode": {
    "name": "ipython",
    "version": 3
   },
   "file_extension": ".py",
   "mimetype": "text/x-python",
   "name": "python",
   "nbconvert_exporter": "python",
   "pygments_lexer": "ipython3",
   "version": "3.8.10"
  }
 },
 "nbformat": 4,
 "nbformat_minor": 2
}
