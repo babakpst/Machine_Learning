{
 "cells": [
  {
   "cell_type": "markdown",
   "metadata": {},
   "source": [
    "## Steepest descent\n",
    "**Babak Poursartip**"
   ]
  },
  {
   "cell_type": "code",
   "execution_count": 1,
   "metadata": {},
   "outputs": [
    {
     "data": {
      "text/plain": [
       "'/snap/jupyter/6/bin/python'"
      ]
     },
     "execution_count": 1,
     "metadata": {},
     "output_type": "execute_result"
    }
   ],
   "source": [
    "import sys\n",
    "sys.executable"
   ]
  },
  {
   "cell_type": "markdown",
   "metadata": {},
   "source": [
    "Importing the required libraries"
   ]
  },
  {
   "cell_type": "code",
   "execution_count": 2,
   "metadata": {},
   "outputs": [
    {
     "ename": "ModuleNotFoundError",
     "evalue": "No module named 'numpy'",
     "output_type": "error",
     "traceback": [
      "\u001b[0;31m---------------------------------------------------------------------------\u001b[0m",
      "\u001b[0;31mModuleNotFoundError\u001b[0m                       Traceback (most recent call last)",
      "\u001b[0;32m<ipython-input-2-7f0eba71afea>\u001b[0m in \u001b[0;36m<module>\u001b[0;34m\u001b[0m\n\u001b[0;32m----> 1\u001b[0;31m \u001b[0;32mimport\u001b[0m \u001b[0mnumpy\u001b[0m \u001b[0;32mas\u001b[0m \u001b[0mnp\u001b[0m\u001b[0;34m\u001b[0m\u001b[0;34m\u001b[0m\u001b[0m\n\u001b[0m\u001b[1;32m      2\u001b[0m \u001b[0;32mimport\u001b[0m \u001b[0mnumpy\u001b[0m\u001b[0;34m.\u001b[0m\u001b[0mlinalg\u001b[0m \u001b[0;32mas\u001b[0m \u001b[0mla\u001b[0m \u001b[0;31m# linear algebra\u001b[0m\u001b[0;34m\u001b[0m\u001b[0;34m\u001b[0m\u001b[0m\n\u001b[1;32m      3\u001b[0m \u001b[0;34m\u001b[0m\u001b[0m\n\u001b[1;32m      4\u001b[0m \u001b[0;32mfrom\u001b[0m \u001b[0mmatplotlib\u001b[0m \u001b[0;32mimport\u001b[0m \u001b[0mcm\u001b[0m\u001b[0;34m\u001b[0m\u001b[0;34m\u001b[0m\u001b[0m\n\u001b[1;32m      5\u001b[0m \u001b[0;32mimport\u001b[0m \u001b[0mmatplotlib\u001b[0m\u001b[0;34m.\u001b[0m\u001b[0mpyplot\u001b[0m \u001b[0;32mas\u001b[0m \u001b[0mplt\u001b[0m\u001b[0;34m\u001b[0m\u001b[0;34m\u001b[0m\u001b[0m\n",
      "\u001b[0;31mModuleNotFoundError\u001b[0m: No module named 'numpy'"
     ]
    }
   ],
   "source": [
    "import numpy as np\n",
    "import numpy.linalg as la # linear algebra\n",
    "\n",
    "from matplotlib import cm\n",
    "import matplotlib.pyplot as plt\n",
    "from mpl_toolkits.mplot3d import axes3d\n",
    "# if using a Jupyter notebook, include:\n",
    "%matplotlib inline"
   ]
  },
  {
   "cell_type": "markdown",
   "metadata": {},
   "source": [
    "Defining the function and its gradient"
   ]
  },
  {
   "cell_type": "code",
   "execution_count": null,
   "metadata": {},
   "outputs": [],
   "source": [
    "# x, the indep. variable of the func., is an array of size n\n",
    "def f(x):\n",
    "  #return 0.5*x[0]**2 + 2.5*x[1]**2\n",
    "  return np.sin(0.5*x[0]**2-0.5*x[1]**2+3)*np.cos(2*x[0] + 1 -np.exp(x[1]))\n",
    "\n",
    "def df(x):\n",
    "  # put the derivative with respect to each component in the array\n",
    "  d1 = x[0]*np.cos(2*x[0] - np.exp(x[1]) +1)*np.cos(0.5*x[0]**2-0.25*x[1]**2 +3)-2*np.sin( 2*x[0]-np.exp(x[1]+1))*np.sin( 0.5*x[0]**2 -0.25*x[1]**2 +3 )\n",
    "  d2 = np.exp(x[1]) * np.sin( 2*x[0]-np.exp(x[1])+1) * np.sin( 0.5*x[0]**2 -0.25*x[1]**2 +3)  - 0.5*x[1]* np.cos(2*x[0] - np.exp(x[1]) +1)*np.cos( 0.5*x[0]**2 -0.25*x[1]**2 +3)\n",
    "  return np.array([d1 , d2])\n",
    "  #return np.array([x[0], 5*x[1]])"
   ]
  },
  {
   "cell_type": "markdown",
   "metadata": {},
   "source": [
    "Let's plot the function here:"
   ]
  },
  {
   "cell_type": "code",
   "execution_count": null,
   "metadata": {},
   "outputs": [],
   "source": [
    "def plot_func(guesses):\n",
    "  # 3d plot of the function\n",
    "  Title      = \"function\"\n",
    "  fig = plt.figure()\n",
    "  ax = fig.gca(projection=\"3d\")\n",
    "  xmesh, ymesh = np.mgrid[-1:3:50j,-1:3:50j]\n",
    "\n",
    "  fmesh = f(np.array([xmesh, ymesh]))\n",
    "  surf =ax.plot_surface(xmesh, ymesh, fmesh, cmap=cm.coolwarm,\n",
    "                       linewidth=0, antialiased=False)\n",
    "  plt.title(Title, fontsize = 16)\n",
    "  plt.xlabel(\"x_1\",     fontsize=12)\n",
    "  plt.ylabel(\"x_2\",     fontsize=12)\n",
    "  #plt.zlabel(\"f(x)\",     fontsize=12)\n",
    "  fig.colorbar(surf, shrink=0.5, aspect=5)\n",
    "\n",
    "\n",
    "  # contour plot of the function\n",
    "  fig,ax = plt.subplots()  \n",
    "  plt.axis('equal')\n",
    "  plt.contour(xmesh, ymesh, fmesh,20)\n",
    "  plt.colorbar();\n",
    "  plt.xlabel(\"x_1\",     fontsize=12)\n",
    "  plt.ylabel(\"x_2\",     fontsize=12)\n",
    "  it_array = np.array(guesses)\n",
    "  plt.plot(it_array.T[0], it_array.T[1], \"x-\")"
   ]
  },
  {
   "cell_type": "markdown",
   "metadata": {},
   "source": [
    "Steepest descent"
   ]
  },
  {
   "cell_type": "code",
   "execution_count": null,
   "metadata": {},
   "outputs": [],
   "source": [
    "def steepest_descent(tol, max_iters):\n",
    "  print(\"{}\".format(\" steepest descent starts ...\"))\n",
    "  # initial guess\n",
    "  #x1 = np.zeros(2)\n",
    "  x1 = [0.0,0.5]\n",
    "  x0 = x1\n",
    "  guesses = [x1]\n",
    "  iters = 0 #iteration counter\n",
    "  step_size = 0.0001\n",
    "  \n",
    "  while ((step_size > tol) and (iters < max_iters)):\n",
    "    s0 = -df(x0)\n",
    "    s1 = -df(x1)  \n",
    "    if iters != 0:\n",
    "      rate = abs( np.dot( ((x1-x0).transpose()),(s1-s0)))/( pow((la.norm(s1-s0)),2) )\n",
    "    else:\n",
    "      rate = 0.00001\n",
    "\n",
    "    x0 = x1 #Store current x value in prev_x    \n",
    "    x1 = x1 - rate * df(x0) #Grad descent\n",
    "    step_size = abs(la.norm(x1 - x0)) #Change in x\n",
    "    iters = iters+1 #iteration count\n",
    "    guesses.append(x1)\n",
    "\n",
    "    print(\"{:} {:5d} {:} {:} {:} {:10.3e} {:} {:6.3f}\".format(\"Iteration:\",iters,\" \\n sol:\",x1, \"step size:\", step_size, \"rate: \", rate))\n",
    "    \n",
    "  print(\"The local minimum occurs at\", x0)\n",
    "  return guesses"
   ]
  },
  {
   "cell_type": "markdown",
   "metadata": {},
   "source": [
    "The main function"
   ]
  },
  {
   "cell_type": "code",
   "execution_count": null,
   "metadata": {},
   "outputs": [],
   "source": [
    "\n",
    "def main():\n",
    "    print(\" Steepest descent code starts ...\")\n",
    " \n",
    "    tol = 0.000001 #This tells us when to stop the algorithm\n",
    "    max_iters = 10000 # maximum number of iterations\n",
    "    guesses = steepest_descent(tol, max_iters)\n",
    "\n",
    "    plot_func(guesses)\n",
    "    \n",
    "    print(\" Steepest descent terminates successfully!\")\n",
    "\n",
    "if __name__ ==\"__main__\":\n",
    "    main()"
   ]
  },
  {
   "cell_type": "code",
   "execution_count": null,
   "metadata": {},
   "outputs": [],
   "source": []
  }
 ],
 "metadata": {
  "kernelspec": {
   "display_name": "Python 3",
   "language": "python",
   "name": "python3"
  },
  "language_info": {
   "codemirror_mode": {
    "name": "ipython",
    "version": 3
   },
   "file_extension": ".py",
   "mimetype": "text/x-python",
   "name": "python",
   "nbconvert_exporter": "python",
   "pygments_lexer": "ipython3",
   "version": "3.7.3"
  }
 },
 "nbformat": 4,
 "nbformat_minor": 2
}
